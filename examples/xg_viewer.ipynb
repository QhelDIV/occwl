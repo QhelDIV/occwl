{
 "cells": [
  {
   "attachments": {},
   "cell_type": "markdown",
   "id": "cb7708b5",
   "metadata": {},
   "source": [
    "# Jupyter viewer example\n",
    "This notebook is an example of using the occwl JupyterViewer to view solids and select faces and edges."
   ]
  },
  {
   "cell_type": "code",
   "execution_count": null,
   "id": "701cae48",
   "metadata": {},
   "outputs": [
    {
     "ename": "",
     "evalue": "",
     "output_type": "error",
     "traceback": [
      "\u001b[1;31mFailed to start the Kernel. \n",
      "\u001b[1;31mTypeError: 'int' object is not subscriptable. \n",
      "\u001b[1;31mView Jupyter <a href='command:jupyter.viewOutput'>log</a> for further details."
     ]
    }
   ],
   "source": [
    "# Automatically reload libraries when the code changes\n",
    "%load_ext autoreload\n",
    "%autoreload 2\n",
    "\n",
    "# Depending on how you have occwl installed you may need to switch into the src directory for jupyter to see the code\n",
    "import os\n",
    "os.chdir(\"../src\")\n",
    "\n",
    "# Imports from occwl\n",
    "from occwl.compound import Compound\n",
    "from occwl.entity_mapper import EntityMapper\n",
    "from occwl.uvgrid import uvgrid\n",
    "from occwl.jupyter_viewer import JupyterViewer\n",
    "\n",
    "os.chdir(\"../\")\n",
    "\n",
    "import numpy as np\n"
   ]
  },
  {
   "attachments": {},
   "cell_type": "markdown",
   "id": "e8a359e2",
   "metadata": {},
   "source": [
    "We start by loading a step file."
   ]
  },
  {
   "cell_type": "code",
   "execution_count": null,
   "id": "a6ec9b63",
   "metadata": {},
   "outputs": [
    {
     "ename": "",
     "evalue": "",
     "output_type": "error",
     "traceback": [
      "\u001b[1;31mFailed to start the Kernel. \n",
      "\u001b[1;31mTypeError: 'int' object is not subscriptable. \n",
      "\u001b[1;31mView Jupyter <a href='command:jupyter.viewOutput'>log</a> for further details."
     ]
    }
   ],
   "source": [
    "solids = list(Compound.load_from_step(\"examples/example.stp\").solids())\n",
    "print(f\"Loaded {len(solids)} solids\")\n",
    "solid = solids[0]"
   ]
  },
  {
   "cell_type": "code",
   "execution_count": null,
   "id": "ad4aa10d",
   "metadata": {},
   "outputs": [
    {
     "ename": "",
     "evalue": "",
     "output_type": "error",
     "traceback": [
      "\u001b[1;31mFailed to start the Kernel. \n",
      "\u001b[1;31mTypeError: 'int' object is not subscriptable. \n",
      "\u001b[1;31mView Jupyter <a href='command:jupyter.viewOutput'>log</a> for further details."
     ]
    }
   ],
   "source": [
    "import pathlib\n",
    "compound = Compound.load_from_step(\"/local-scratch/localhome/xya120/studio/datasets/fatemp/19518_f220b68a/assembly.step\")\n",
    "solid = compound"
   ]
  },
  {
   "attachments": {},
   "cell_type": "markdown",
   "id": "5ec829be",
   "metadata": {},
   "source": [
    "We can now create the JupyterViewer and display the solid.  This is a minimal example."
   ]
  },
  {
   "cell_type": "code",
   "execution_count": 6,
   "id": "f5d9fa3b",
   "metadata": {},
   "outputs": [
    {
     "ename": "",
     "evalue": "",
     "output_type": "error",
     "traceback": [
      "\u001b[1;31mFailed to restart the Kernel. \n",
      "\u001b[1;31mTypeError: 'int' object is not subscriptable. \n",
      "\u001b[1;31mView Jupyter <a href='command:jupyter.viewOutput'>log</a> for further details."
     ]
    }
   ],
   "source": [
    "viewer = JupyterViewer()\n",
    "viewer.display(solid)\n",
    "viewer.show()"
   ]
  },
  {
   "attachments": {},
   "cell_type": "markdown",
   "id": "65f36b19",
   "metadata": {},
   "source": [
    "## Adding color to faces and edges\n",
    "Here is an example using a few more advanced options.  Control over the color of faces and edges."
   ]
  },
  {
   "cell_type": "code",
   "execution_count": 4,
   "id": "94ee67d9",
   "metadata": {},
   "outputs": [
    {
     "name": "stdout",
     "output_type": "stream",
     "text": [
      "! value [-1.0267812228188097e-05, -1.4528618285325479e-05, -15.589901123939594]\n",
      "! value [0.9530586434349033, -0.3027857694373561, -1.513996140092962e-07, 4.765505030583045e-07]\n",
      "! value 2.036265625\n",
      "! value (-1.0267812228188097e-05, -1.4528618285325479e-05, -15.589901123939594)\n",
      "! value (0.9530586434349033, -0.3027857694373561, -1.513996140092962e-07, 4.765505030583045e-07)\n",
      "! value 2.036265625\n",
      "! value [-1.0267812227823665e-05, -1.4528618285325479e-05, -15.589901123939594]\n",
      "! value [0.9530586434374358, -0.3027857694293845, -1.5139961400352032e-07, 4.765505030539369e-07]\n",
      "! value 2.1434375\n",
      "! value (-1.0267812227823665e-05, -1.4528618285325479e-05, -15.589901123939594)\n",
      "! value (0.9530586434374358, -0.3027857694293845, -1.5139961400352032e-07, 4.765505030539369e-07)\n",
      "! value 2.1434375\n",
      "! value [-1.0267812227580624e-05, -1.4528618285325479e-05, -15.589901123939594]\n",
      "! value [0.9530586434391248, -0.3027857694240682, -1.5139961399966836e-07, 4.765505030510241e-07]\n",
      "! value 2.25625\n",
      "! value (-1.0267812227580624e-05, -1.4528618285325479e-05, -15.589901123939594)\n",
      "! value (0.9530586434391248, -0.3027857694240682, -1.5139961399966836e-07, 4.765505030510241e-07)\n",
      "! value 2.25625\n",
      "! value [-1.0267812227418537e-05, -1.4528618285325479e-05, -15.589901123939594]\n",
      "! value [0.9530586434402514, -0.30278576942052265, -1.513996139970994e-07, 4.7655050304908147e-07]\n",
      "! value 2.375\n",
      "! value (-1.0267812227418537e-05, -1.4528618285325479e-05, -15.589901123939594)\n",
      "! value (0.9530586434402514, -0.30278576942052265, -1.513996139970994e-07, 4.7655050304908147e-07)\n",
      "! value 2.375\n",
      "! value [-1.0267812227310442e-05, -1.4528618285325479e-05, -15.589901123939594]\n",
      "! value [0.9530586434410024, -0.3027857694181582, -1.5139961399538623e-07, 4.7655050304778593e-07]\n",
      "! value 2.25625\n",
      "! value (-1.0267812227310442e-05, -1.4528618285325479e-05, -15.589901123939594)\n",
      "! value (0.9530586434410024, -0.3027857694181582, -1.5139961399538623e-07, 4.7655050304778593e-07)\n",
      "! value 2.25625\n",
      "! value [-1.0267812227238353e-05, -1.4528618285325479e-05, -15.589901123939594]\n",
      "! value [0.9530586434415035, -0.30278576941658136, -1.513996139942437e-07, 4.765505030469219e-07]\n",
      "! value 2.1434375\n",
      "! value (-1.0267812227238353e-05, -1.4528618285325479e-05, -15.589901123939594)\n",
      "! value (0.9530586434415035, -0.30278576941658136, -1.513996139942437e-07, 4.765505030469219e-07)\n",
      "! value 2.1434375\n",
      "! value [-1.0267812227190277e-05, -1.4528618285325479e-05, -15.589901123939594]\n",
      "! value [0.9530586434418375, -0.30278576941552976, -1.5139961399348173e-07, 4.765505030463457e-07]\n",
      "! value 2.036265625\n",
      "! value (-1.0267812227190277e-05, -1.4528618285325479e-05, -15.589901123939594)\n",
      "! value (0.9530586434418375, -0.30278576941552976, -1.5139961399348173e-07, 4.765505030463457e-07)\n",
      "! value 2.036265625\n",
      "! value [-1.0267812227158215e-05, -1.4528618285325479e-05, -15.589901123939594]\n",
      "! value [0.9530586434420604, -0.30278576941482843, -1.5139961399297357e-07, 4.765505030459615e-07]\n",
      "! value 1.9344523437499999\n",
      "! value (-1.0267812227158215e-05, -1.4528618285325479e-05, -15.589901123939594)\n",
      "! value (0.9530586434420604, -0.30278576941482843, -1.5139961399297357e-07, 4.765505030459615e-07)\n",
      "! value 1.9344523437499999\n",
      "! value [-8.144531196965909, -15.480207605858972, 5.441969472559517]\n",
      "! value [0.6207805714706026, -0.1533402350633952, -0.18437178026225093, 0.7464082669948551]\n",
      "! value (-8.144531196965909, -15.480207605858972, 5.441969472559517)\n",
      "! value (0.6207805714706026, -0.1533402350633952, -0.18437178026225093, 0.7464082669948551)\n",
      "! value [-8.144531196965906, -15.480207605858965, 5.441969472559517]\n",
      "! value [0.6207805714706028, -0.15334023506339522, -0.18437178026225096, 0.7464082669948551]\n",
      "! value 2.036265625\n",
      "! value (-8.144531196965906, -15.480207605858965, 5.441969472559517)\n",
      "! value (0.6207805714706028, -0.15334023506339522, -0.18437178026225096, 0.7464082669948551)\n",
      "! value 2.036265625\n",
      "! value [-8.144531196965902, -15.480207605858961, 5.441969472559517]\n",
      "! value [0.6207805714706026, -0.15334023506339517, -0.18437178026225096, 0.7464082669948551]\n",
      "! value 2.1434375\n",
      "! value (-8.144531196965902, -15.480207605858961, 5.441969472559517)\n",
      "! value (0.6207805714706026, -0.15334023506339517, -0.18437178026225096, 0.7464082669948551)\n",
      "! value 2.1434375\n",
      "! value [-8.144531196965897, -15.480207605858956, 5.441969472559515]\n",
      "! value [0.6207805714706028, -0.15334023506339517, -0.18437178026225093, 0.7464082669948551]\n",
      "! value 2.25625\n",
      "! value (-8.144531196965897, -15.480207605858956, 5.441969472559515)\n",
      "! value (0.6207805714706028, -0.15334023506339517, -0.18437178026225093, 0.7464082669948551)\n",
      "! value 2.25625\n",
      "! value [-8.144531196965893, -15.480207605858954, 5.441969472559514]\n",
      "! value [0.6207805714706028, -0.15334023506339514, -0.18437178026225082, 0.7464082669948551]\n",
      "! value 2.375\n",
      "! value (-8.144531196965893, -15.480207605858954, 5.441969472559514)\n",
      "! value (0.6207805714706028, -0.15334023506339514, -0.18437178026225082, 0.7464082669948551)\n",
      "! value 2.375\n",
      "! value [-8.144531196965891, -15.48020760585895, 5.441969472559514]\n",
      "! value [0.6207805714706028, -0.15334023506339511, -0.18437178026225085, 0.7464082669948551]\n",
      "! value 2.5\n",
      "! value (-8.144531196965891, -15.48020760585895, 5.441969472559514)\n",
      "! value (0.6207805714706028, -0.15334023506339511, -0.18437178026225085, 0.7464082669948551)\n",
      "! value 2.5\n",
      "! value [-8.14453119696589, -15.480207605858947, 5.441969472559514]\n",
      "! value [0.6207805714706028, -0.15334023506339514, -0.18437178026225082, 0.7464082669948551]\n",
      "! value 2.6315789473684212\n",
      "! value (-8.14453119696589, -15.480207605858947, 5.441969472559514)\n",
      "! value (0.6207805714706028, -0.15334023506339514, -0.18437178026225082, 0.7464082669948551)\n",
      "! value 2.6315789473684212\n",
      "! value [-8.144531196965886, -15.48020760585894, 5.44196947255951]\n",
      "! value [0.6207805714706028, -0.15334023506339511, -0.18437178026225082, 0.7464082669948551]\n",
      "! value 2.770083102493075\n",
      "! value (-8.144531196965886, -15.48020760585894, 5.44196947255951)\n",
      "! value (0.6207805714706028, -0.15334023506339511, -0.18437178026225082, 0.7464082669948551)\n",
      "! value 2.770083102493075\n",
      "! value [-8.144531196965882, -15.480207605858936, 5.4419694725595065]\n",
      "! value [0.6207805714706028, -0.15334023506339511, -0.18437178026225076, 0.7464082669948551]\n",
      "! value 2.9158769499927106\n",
      "! value (-8.144531196965882, -15.480207605858936, 5.4419694725595065)\n",
      "! value (0.6207805714706028, -0.15334023506339511, -0.18437178026225076, 0.7464082669948551)\n",
      "! value 2.9158769499927106\n",
      "! value [-8.144531196965879, -15.480207605858928, 5.441969472559505]\n",
      "! value 3.069344157887064\n",
      "! value (-8.144531196965879, -15.480207605858928, 5.441969472559505)\n",
      "! value 3.069344157887064\n",
      "! value [-8.144531196965877, -15.480207605858924, 5.441969472559501]\n",
      "! value [0.620780571470603, -0.15334023506339514, -0.1843717802622508, 0.746408266994855]\n",
      "! value 3.230888587249541\n",
      "! value (-8.144531196965877, -15.480207605858924, 5.441969472559501)\n",
      "! value (0.620780571470603, -0.15334023506339514, -0.1843717802622508, 0.746408266994855)\n",
      "! value 3.230888587249541\n",
      "! value [-8.144531196965875, -15.48020760585892, 5.441969472559501]\n",
      "! value 3.4009353549995174\n",
      "! value (-8.144531196965875, -15.48020760585892, 5.441969472559501)\n",
      "! value 3.4009353549995174\n"
     ]
    }
   ],
   "source": [
    "viewer2 = JupyterViewer()\n",
    "viewer2.display(solid, shape_color=\"green\", edge_color=\"black\", render_edges=True)\n",
    "viewer2.show()"
   ]
  },
  {
   "attachments": {},
   "cell_type": "markdown",
   "id": "b78c529f",
   "metadata": {},
   "source": [
    "## Selecting individual faces and edges\n",
    "To allow individual faces and edges to be selected you need to display them individually as shown below."
   ]
  },
  {
   "cell_type": "code",
   "execution_count": 5,
   "id": "4d680663",
   "metadata": {},
   "outputs": [
    {
     "data": {
      "application/vnd.jupyter.widget-view+json": {
       "model_id": "a0ddead7324045dfb8df3c4ca721e33c",
       "version_major": 2,
       "version_minor": 0
      },
      "text/plain": [
       "HBox(children=(VBox(children=(HBox(children=(Checkbox(value=True, description='Axes', layout=Layout(height='au…"
      ]
     },
     "metadata": {},
     "output_type": "display_data"
    },
    {
     "ename": "TraitError",
     "evalue": "The 'rotation' trait of a GridHelper instance contains an Enum of an Euler which expected any of ['XYZ', 'YZX', 'ZXY', 'XZY', 'YXZ', 'ZYX'], not the str 'xyz'.",
     "output_type": "error",
     "traceback": [
      "\u001b[0;31m---------------------------------------------------------------------------\u001b[0m",
      "\u001b[0;31mTraitError\u001b[0m                                Traceback (most recent call last)",
      "\u001b[0;32m~/mambaforge/envs/myoccwlenv/lib/python3.7/site-packages/ipywidgets/widgets/widget.py\u001b[0m in \u001b[0;36m_handle_msg\u001b[0;34m(self, msg)\u001b[0m\n\u001b[1;32m    771\u001b[0m                 \u001b[0;32mif\u001b[0m \u001b[0;34m'buffer_paths'\u001b[0m \u001b[0;32min\u001b[0m \u001b[0mdata\u001b[0m\u001b[0;34m:\u001b[0m\u001b[0;34m\u001b[0m\u001b[0;34m\u001b[0m\u001b[0m\n\u001b[1;32m    772\u001b[0m                     \u001b[0m_put_buffers\u001b[0m\u001b[0;34m(\u001b[0m\u001b[0mstate\u001b[0m\u001b[0;34m,\u001b[0m \u001b[0mdata\u001b[0m\u001b[0;34m[\u001b[0m\u001b[0;34m'buffer_paths'\u001b[0m\u001b[0;34m]\u001b[0m\u001b[0;34m,\u001b[0m \u001b[0mmsg\u001b[0m\u001b[0;34m[\u001b[0m\u001b[0;34m'buffers'\u001b[0m\u001b[0;34m]\u001b[0m\u001b[0;34m)\u001b[0m\u001b[0;34m\u001b[0m\u001b[0;34m\u001b[0m\u001b[0m\n\u001b[0;32m--> 773\u001b[0;31m                 \u001b[0mself\u001b[0m\u001b[0;34m.\u001b[0m\u001b[0mset_state\u001b[0m\u001b[0;34m(\u001b[0m\u001b[0mstate\u001b[0m\u001b[0;34m)\u001b[0m\u001b[0;34m\u001b[0m\u001b[0;34m\u001b[0m\u001b[0m\n\u001b[0m\u001b[1;32m    774\u001b[0m \u001b[0;34m\u001b[0m\u001b[0m\n\u001b[1;32m    775\u001b[0m         \u001b[0;31m# Handle a state request.\u001b[0m\u001b[0;34m\u001b[0m\u001b[0;34m\u001b[0m\u001b[0;34m\u001b[0m\u001b[0m\n",
      "\u001b[0;32m~/mambaforge/envs/myoccwlenv/lib/python3.7/site-packages/ipywidgets/widgets/widget.py\u001b[0m in \u001b[0;36mset_state\u001b[0;34m(self, sync_data)\u001b[0m\n\u001b[1;32m    653\u001b[0m                     from_json = self.trait_metadata(name, 'from_json',\n\u001b[1;32m    654\u001b[0m                                                     self._trait_from_json)\n\u001b[0;32m--> 655\u001b[0;31m                     \u001b[0mself\u001b[0m\u001b[0;34m.\u001b[0m\u001b[0mset_trait\u001b[0m\u001b[0;34m(\u001b[0m\u001b[0mname\u001b[0m\u001b[0;34m,\u001b[0m \u001b[0mfrom_json\u001b[0m\u001b[0;34m(\u001b[0m\u001b[0msync_data\u001b[0m\u001b[0;34m[\u001b[0m\u001b[0mname\u001b[0m\u001b[0;34m]\u001b[0m\u001b[0;34m,\u001b[0m \u001b[0mself\u001b[0m\u001b[0;34m)\u001b[0m\u001b[0;34m)\u001b[0m\u001b[0;34m\u001b[0m\u001b[0;34m\u001b[0m\u001b[0m\n\u001b[0m\u001b[1;32m    656\u001b[0m \u001b[0;34m\u001b[0m\u001b[0m\n\u001b[1;32m    657\u001b[0m     \u001b[0;32mdef\u001b[0m \u001b[0msend\u001b[0m\u001b[0;34m(\u001b[0m\u001b[0mself\u001b[0m\u001b[0;34m,\u001b[0m \u001b[0mcontent\u001b[0m\u001b[0;34m,\u001b[0m \u001b[0mbuffers\u001b[0m\u001b[0;34m=\u001b[0m\u001b[0;32mNone\u001b[0m\u001b[0;34m)\u001b[0m\u001b[0;34m:\u001b[0m\u001b[0;34m\u001b[0m\u001b[0;34m\u001b[0m\u001b[0m\n",
      "\u001b[0;32m~/mambaforge/envs/myoccwlenv/lib/python3.7/site-packages/traitlets/traitlets.py\u001b[0m in \u001b[0;36mset_trait\u001b[0;34m(self, name, value)\u001b[0m\n\u001b[1;32m   1740\u001b[0m             \u001b[0;32mraise\u001b[0m \u001b[0mTraitError\u001b[0m\u001b[0;34m(\u001b[0m\u001b[0;34mf\"Class {cls.__name__} does not have a trait named {name}\"\u001b[0m\u001b[0;34m)\u001b[0m\u001b[0;34m\u001b[0m\u001b[0;34m\u001b[0m\u001b[0m\n\u001b[1;32m   1741\u001b[0m         \u001b[0;32melse\u001b[0m\u001b[0;34m:\u001b[0m\u001b[0;34m\u001b[0m\u001b[0;34m\u001b[0m\u001b[0m\n\u001b[0;32m-> 1742\u001b[0;31m             \u001b[0mgetattr\u001b[0m\u001b[0;34m(\u001b[0m\u001b[0mcls\u001b[0m\u001b[0;34m,\u001b[0m \u001b[0mname\u001b[0m\u001b[0;34m)\u001b[0m\u001b[0;34m.\u001b[0m\u001b[0mset\u001b[0m\u001b[0;34m(\u001b[0m\u001b[0mself\u001b[0m\u001b[0;34m,\u001b[0m \u001b[0mvalue\u001b[0m\u001b[0;34m)\u001b[0m\u001b[0;34m\u001b[0m\u001b[0;34m\u001b[0m\u001b[0m\n\u001b[0m\u001b[1;32m   1743\u001b[0m \u001b[0;34m\u001b[0m\u001b[0m\n\u001b[1;32m   1744\u001b[0m     \u001b[0;34m@\u001b[0m\u001b[0mclassmethod\u001b[0m\u001b[0;34m\u001b[0m\u001b[0;34m\u001b[0m\u001b[0m\n",
      "\u001b[0;32m~/mambaforge/envs/myoccwlenv/lib/python3.7/site-packages/traitlets/traitlets.py\u001b[0m in \u001b[0;36mset\u001b[0;34m(self, obj, value)\u001b[0m\n\u001b[1;32m    704\u001b[0m \u001b[0;34m\u001b[0m\u001b[0m\n\u001b[1;32m    705\u001b[0m     \u001b[0;32mdef\u001b[0m \u001b[0mset\u001b[0m\u001b[0;34m(\u001b[0m\u001b[0mself\u001b[0m\u001b[0;34m,\u001b[0m \u001b[0mobj\u001b[0m\u001b[0;34m,\u001b[0m \u001b[0mvalue\u001b[0m\u001b[0;34m)\u001b[0m\u001b[0;34m:\u001b[0m\u001b[0;34m\u001b[0m\u001b[0;34m\u001b[0m\u001b[0m\n\u001b[0;32m--> 706\u001b[0;31m         \u001b[0mnew_value\u001b[0m \u001b[0;34m=\u001b[0m \u001b[0mself\u001b[0m\u001b[0;34m.\u001b[0m\u001b[0m_validate\u001b[0m\u001b[0;34m(\u001b[0m\u001b[0mobj\u001b[0m\u001b[0;34m,\u001b[0m \u001b[0mvalue\u001b[0m\u001b[0;34m)\u001b[0m\u001b[0;34m\u001b[0m\u001b[0;34m\u001b[0m\u001b[0m\n\u001b[0m\u001b[1;32m    707\u001b[0m         \u001b[0;32mtry\u001b[0m\u001b[0;34m:\u001b[0m\u001b[0;34m\u001b[0m\u001b[0;34m\u001b[0m\u001b[0m\n\u001b[1;32m    708\u001b[0m             \u001b[0mold_value\u001b[0m \u001b[0;34m=\u001b[0m \u001b[0mobj\u001b[0m\u001b[0;34m.\u001b[0m\u001b[0m_trait_values\u001b[0m\u001b[0;34m[\u001b[0m\u001b[0mself\u001b[0m\u001b[0;34m.\u001b[0m\u001b[0mname\u001b[0m\u001b[0;34m]\u001b[0m\u001b[0;34m\u001b[0m\u001b[0;34m\u001b[0m\u001b[0m\n",
      "\u001b[0;32m~/mambaforge/envs/myoccwlenv/lib/python3.7/site-packages/traitlets/traitlets.py\u001b[0m in \u001b[0;36m_validate\u001b[0;34m(self, obj, value)\u001b[0m\n\u001b[1;32m    736\u001b[0m             \u001b[0;32mreturn\u001b[0m \u001b[0mvalue\u001b[0m\u001b[0;34m\u001b[0m\u001b[0;34m\u001b[0m\u001b[0m\n\u001b[1;32m    737\u001b[0m         \u001b[0;32mif\u001b[0m \u001b[0mhasattr\u001b[0m\u001b[0;34m(\u001b[0m\u001b[0mself\u001b[0m\u001b[0;34m,\u001b[0m \u001b[0;34m\"validate\"\u001b[0m\u001b[0;34m)\u001b[0m\u001b[0;34m:\u001b[0m\u001b[0;34m\u001b[0m\u001b[0;34m\u001b[0m\u001b[0m\n\u001b[0;32m--> 738\u001b[0;31m             \u001b[0mvalue\u001b[0m \u001b[0;34m=\u001b[0m \u001b[0mself\u001b[0m\u001b[0;34m.\u001b[0m\u001b[0mvalidate\u001b[0m\u001b[0;34m(\u001b[0m\u001b[0mobj\u001b[0m\u001b[0;34m,\u001b[0m \u001b[0mvalue\u001b[0m\u001b[0;34m)\u001b[0m\u001b[0;34m\u001b[0m\u001b[0;34m\u001b[0m\u001b[0m\n\u001b[0m\u001b[1;32m    739\u001b[0m         \u001b[0;32mif\u001b[0m \u001b[0mobj\u001b[0m\u001b[0;34m.\u001b[0m\u001b[0m_cross_validation_lock\u001b[0m \u001b[0;32mis\u001b[0m \u001b[0;32mFalse\u001b[0m\u001b[0;34m:\u001b[0m\u001b[0;34m\u001b[0m\u001b[0;34m\u001b[0m\u001b[0m\n\u001b[1;32m    740\u001b[0m             \u001b[0mvalue\u001b[0m \u001b[0;34m=\u001b[0m \u001b[0mself\u001b[0m\u001b[0;34m.\u001b[0m\u001b[0m_cross_validate\u001b[0m\u001b[0;34m(\u001b[0m\u001b[0mobj\u001b[0m\u001b[0;34m,\u001b[0m \u001b[0mvalue\u001b[0m\u001b[0;34m)\u001b[0m\u001b[0;34m\u001b[0m\u001b[0;34m\u001b[0m\u001b[0m\n",
      "\u001b[0;32m~/mambaforge/envs/myoccwlenv/lib/python3.7/site-packages/traitlets/traitlets.py\u001b[0m in \u001b[0;36mvalidate\u001b[0;34m(self, obj, value)\u001b[0m\n\u001b[1;32m   2869\u001b[0m             \u001b[0;32mreturn\u001b[0m \u001b[0mvalue\u001b[0m\u001b[0;34m\u001b[0m\u001b[0;34m\u001b[0m\u001b[0m\n\u001b[1;32m   2870\u001b[0m \u001b[0;34m\u001b[0m\u001b[0m\n\u001b[0;32m-> 2871\u001b[0;31m         \u001b[0mvalue\u001b[0m \u001b[0;34m=\u001b[0m \u001b[0mself\u001b[0m\u001b[0;34m.\u001b[0m\u001b[0mvalidate_elements\u001b[0m\u001b[0;34m(\u001b[0m\u001b[0mobj\u001b[0m\u001b[0;34m,\u001b[0m \u001b[0mvalue\u001b[0m\u001b[0;34m)\u001b[0m\u001b[0;34m\u001b[0m\u001b[0;34m\u001b[0m\u001b[0m\n\u001b[0m\u001b[1;32m   2872\u001b[0m \u001b[0;34m\u001b[0m\u001b[0m\n\u001b[1;32m   2873\u001b[0m         \u001b[0;32mreturn\u001b[0m \u001b[0mvalue\u001b[0m\u001b[0;34m\u001b[0m\u001b[0;34m\u001b[0m\u001b[0m\n",
      "\u001b[0;32m~/mambaforge/envs/myoccwlenv/lib/python3.7/site-packages/traitlets/traitlets.py\u001b[0m in \u001b[0;36mvalidate_elements\u001b[0;34m(self, obj, value)\u001b[0m\n\u001b[1;32m   3186\u001b[0m                 \u001b[0mv\u001b[0m \u001b[0;34m=\u001b[0m \u001b[0mtrait\u001b[0m\u001b[0;34m.\u001b[0m\u001b[0m_validate\u001b[0m\u001b[0;34m(\u001b[0m\u001b[0mobj\u001b[0m\u001b[0;34m,\u001b[0m \u001b[0mv\u001b[0m\u001b[0;34m)\u001b[0m\u001b[0;34m\u001b[0m\u001b[0;34m\u001b[0m\u001b[0m\n\u001b[1;32m   3187\u001b[0m             \u001b[0;32mexcept\u001b[0m \u001b[0mTraitError\u001b[0m \u001b[0;32mas\u001b[0m \u001b[0merror\u001b[0m\u001b[0;34m:\u001b[0m\u001b[0;34m\u001b[0m\u001b[0;34m\u001b[0m\u001b[0m\n\u001b[0;32m-> 3188\u001b[0;31m                 \u001b[0mself\u001b[0m\u001b[0;34m.\u001b[0m\u001b[0merror\u001b[0m\u001b[0;34m(\u001b[0m\u001b[0mobj\u001b[0m\u001b[0;34m,\u001b[0m \u001b[0mv\u001b[0m\u001b[0;34m,\u001b[0m \u001b[0merror\u001b[0m\u001b[0;34m)\u001b[0m\u001b[0;34m\u001b[0m\u001b[0;34m\u001b[0m\u001b[0m\n\u001b[0m\u001b[1;32m   3189\u001b[0m             \u001b[0;32melse\u001b[0m\u001b[0;34m:\u001b[0m\u001b[0;34m\u001b[0m\u001b[0;34m\u001b[0m\u001b[0m\n\u001b[1;32m   3190\u001b[0m                 \u001b[0mvalidated\u001b[0m\u001b[0;34m.\u001b[0m\u001b[0mappend\u001b[0m\u001b[0;34m(\u001b[0m\u001b[0mv\u001b[0m\u001b[0;34m)\u001b[0m\u001b[0;34m\u001b[0m\u001b[0;34m\u001b[0m\u001b[0m\n",
      "\u001b[0;32m~/mambaforge/envs/myoccwlenv/lib/python3.7/site-packages/traitlets/traitlets.py\u001b[0m in \u001b[0;36merror\u001b[0;34m(self, obj, value, error, info)\u001b[0m\n\u001b[1;32m    821\u001b[0m                         ),\n\u001b[1;32m    822\u001b[0m                     )\n\u001b[0;32m--> 823\u001b[0;31m             \u001b[0;32mraise\u001b[0m \u001b[0merror\u001b[0m\u001b[0;34m\u001b[0m\u001b[0;34m\u001b[0m\u001b[0m\n\u001b[0m\u001b[1;32m    824\u001b[0m         \u001b[0;32melse\u001b[0m\u001b[0;34m:\u001b[0m\u001b[0;34m\u001b[0m\u001b[0;34m\u001b[0m\u001b[0m\n\u001b[1;32m    825\u001b[0m             \u001b[0;31m# this trait caused an error\u001b[0m\u001b[0;34m\u001b[0m\u001b[0;34m\u001b[0m\u001b[0;34m\u001b[0m\u001b[0m\n",
      "\u001b[0;32m~/mambaforge/envs/myoccwlenv/lib/python3.7/site-packages/traitlets/traitlets.py\u001b[0m in \u001b[0;36mvalidate_elements\u001b[0;34m(self, obj, value)\u001b[0m\n\u001b[1;32m   3184\u001b[0m         \u001b[0;32mfor\u001b[0m \u001b[0mtrait\u001b[0m\u001b[0;34m,\u001b[0m \u001b[0mv\u001b[0m \u001b[0;32min\u001b[0m \u001b[0mzip\u001b[0m\u001b[0;34m(\u001b[0m\u001b[0mself\u001b[0m\u001b[0;34m.\u001b[0m\u001b[0m_traits\u001b[0m\u001b[0;34m,\u001b[0m \u001b[0mvalue\u001b[0m\u001b[0;34m)\u001b[0m\u001b[0;34m:\u001b[0m\u001b[0;34m\u001b[0m\u001b[0;34m\u001b[0m\u001b[0m\n\u001b[1;32m   3185\u001b[0m             \u001b[0;32mtry\u001b[0m\u001b[0;34m:\u001b[0m\u001b[0;34m\u001b[0m\u001b[0;34m\u001b[0m\u001b[0m\n\u001b[0;32m-> 3186\u001b[0;31m                 \u001b[0mv\u001b[0m \u001b[0;34m=\u001b[0m \u001b[0mtrait\u001b[0m\u001b[0;34m.\u001b[0m\u001b[0m_validate\u001b[0m\u001b[0;34m(\u001b[0m\u001b[0mobj\u001b[0m\u001b[0;34m,\u001b[0m \u001b[0mv\u001b[0m\u001b[0;34m)\u001b[0m\u001b[0;34m\u001b[0m\u001b[0;34m\u001b[0m\u001b[0m\n\u001b[0m\u001b[1;32m   3187\u001b[0m             \u001b[0;32mexcept\u001b[0m \u001b[0mTraitError\u001b[0m \u001b[0;32mas\u001b[0m \u001b[0merror\u001b[0m\u001b[0;34m:\u001b[0m\u001b[0;34m\u001b[0m\u001b[0;34m\u001b[0m\u001b[0m\n\u001b[1;32m   3188\u001b[0m                 \u001b[0mself\u001b[0m\u001b[0;34m.\u001b[0m\u001b[0merror\u001b[0m\u001b[0;34m(\u001b[0m\u001b[0mobj\u001b[0m\u001b[0;34m,\u001b[0m \u001b[0mv\u001b[0m\u001b[0;34m,\u001b[0m \u001b[0merror\u001b[0m\u001b[0;34m)\u001b[0m\u001b[0;34m\u001b[0m\u001b[0;34m\u001b[0m\u001b[0m\n",
      "\u001b[0;32m~/mambaforge/envs/myoccwlenv/lib/python3.7/site-packages/traitlets/traitlets.py\u001b[0m in \u001b[0;36m_validate\u001b[0;34m(self, obj, value)\u001b[0m\n\u001b[1;32m    736\u001b[0m             \u001b[0;32mreturn\u001b[0m \u001b[0mvalue\u001b[0m\u001b[0;34m\u001b[0m\u001b[0;34m\u001b[0m\u001b[0m\n\u001b[1;32m    737\u001b[0m         \u001b[0;32mif\u001b[0m \u001b[0mhasattr\u001b[0m\u001b[0;34m(\u001b[0m\u001b[0mself\u001b[0m\u001b[0;34m,\u001b[0m \u001b[0;34m\"validate\"\u001b[0m\u001b[0;34m)\u001b[0m\u001b[0;34m:\u001b[0m\u001b[0;34m\u001b[0m\u001b[0;34m\u001b[0m\u001b[0m\n\u001b[0;32m--> 738\u001b[0;31m             \u001b[0mvalue\u001b[0m \u001b[0;34m=\u001b[0m \u001b[0mself\u001b[0m\u001b[0;34m.\u001b[0m\u001b[0mvalidate\u001b[0m\u001b[0;34m(\u001b[0m\u001b[0mobj\u001b[0m\u001b[0;34m,\u001b[0m \u001b[0mvalue\u001b[0m\u001b[0;34m)\u001b[0m\u001b[0;34m\u001b[0m\u001b[0;34m\u001b[0m\u001b[0m\n\u001b[0m\u001b[1;32m    739\u001b[0m         \u001b[0;32mif\u001b[0m \u001b[0mobj\u001b[0m\u001b[0;34m.\u001b[0m\u001b[0m_cross_validation_lock\u001b[0m \u001b[0;32mis\u001b[0m \u001b[0;32mFalse\u001b[0m\u001b[0;34m:\u001b[0m\u001b[0;34m\u001b[0m\u001b[0;34m\u001b[0m\u001b[0m\n\u001b[1;32m    740\u001b[0m             \u001b[0mvalue\u001b[0m \u001b[0;34m=\u001b[0m \u001b[0mself\u001b[0m\u001b[0;34m.\u001b[0m\u001b[0m_cross_validate\u001b[0m\u001b[0;34m(\u001b[0m\u001b[0mobj\u001b[0m\u001b[0;34m,\u001b[0m \u001b[0mvalue\u001b[0m\u001b[0;34m)\u001b[0m\u001b[0;34m\u001b[0m\u001b[0;34m\u001b[0m\u001b[0m\n",
      "\u001b[0;32m~/mambaforge/envs/myoccwlenv/lib/python3.7/site-packages/traitlets/traitlets.py\u001b[0m in \u001b[0;36mvalidate\u001b[0;34m(self, obj, value)\u001b[0m\n\u001b[1;32m   2660\u001b[0m         \u001b[0;32mif\u001b[0m \u001b[0mvalue\u001b[0m \u001b[0;32min\u001b[0m \u001b[0mself\u001b[0m\u001b[0;34m.\u001b[0m\u001b[0mvalues\u001b[0m\u001b[0;34m:\u001b[0m\u001b[0;34m\u001b[0m\u001b[0;34m\u001b[0m\u001b[0m\n\u001b[1;32m   2661\u001b[0m             \u001b[0;32mreturn\u001b[0m \u001b[0mvalue\u001b[0m\u001b[0;34m\u001b[0m\u001b[0;34m\u001b[0m\u001b[0m\n\u001b[0;32m-> 2662\u001b[0;31m         \u001b[0mself\u001b[0m\u001b[0;34m.\u001b[0m\u001b[0merror\u001b[0m\u001b[0;34m(\u001b[0m\u001b[0mobj\u001b[0m\u001b[0;34m,\u001b[0m \u001b[0mvalue\u001b[0m\u001b[0;34m)\u001b[0m\u001b[0;34m\u001b[0m\u001b[0;34m\u001b[0m\u001b[0m\n\u001b[0m\u001b[1;32m   2663\u001b[0m \u001b[0;34m\u001b[0m\u001b[0m\n\u001b[1;32m   2664\u001b[0m     \u001b[0;32mdef\u001b[0m \u001b[0m_choices_str\u001b[0m\u001b[0;34m(\u001b[0m\u001b[0mself\u001b[0m\u001b[0;34m,\u001b[0m \u001b[0mas_rst\u001b[0m\u001b[0;34m=\u001b[0m\u001b[0;32mFalse\u001b[0m\u001b[0;34m)\u001b[0m\u001b[0;34m:\u001b[0m\u001b[0;34m\u001b[0m\u001b[0;34m\u001b[0m\u001b[0m\n",
      "\u001b[0;32m~/mambaforge/envs/myoccwlenv/lib/python3.7/site-packages/traitlets/traitlets.py\u001b[0m in \u001b[0;36merror\u001b[0;34m(self, obj, value, error, info)\u001b[0m\n\u001b[1;32m    826\u001b[0m             \u001b[0;32mif\u001b[0m \u001b[0mself\u001b[0m\u001b[0;34m.\u001b[0m\u001b[0mname\u001b[0m \u001b[0;32mis\u001b[0m \u001b[0;32mNone\u001b[0m\u001b[0;34m:\u001b[0m\u001b[0;34m\u001b[0m\u001b[0;34m\u001b[0m\u001b[0m\n\u001b[1;32m    827\u001b[0m                 \u001b[0;31m# this is not the root trait\u001b[0m\u001b[0;34m\u001b[0m\u001b[0;34m\u001b[0m\u001b[0;34m\u001b[0m\u001b[0m\n\u001b[0;32m--> 828\u001b[0;31m                 \u001b[0;32mraise\u001b[0m \u001b[0mTraitError\u001b[0m\u001b[0;34m(\u001b[0m\u001b[0mvalue\u001b[0m\u001b[0;34m,\u001b[0m \u001b[0minfo\u001b[0m \u001b[0;32mor\u001b[0m \u001b[0mself\u001b[0m\u001b[0;34m.\u001b[0m\u001b[0minfo\u001b[0m\u001b[0;34m(\u001b[0m\u001b[0;34m)\u001b[0m\u001b[0;34m,\u001b[0m \u001b[0mself\u001b[0m\u001b[0;34m)\u001b[0m\u001b[0;34m\u001b[0m\u001b[0;34m\u001b[0m\u001b[0m\n\u001b[0m\u001b[1;32m    829\u001b[0m             \u001b[0;32melse\u001b[0m\u001b[0;34m:\u001b[0m\u001b[0;34m\u001b[0m\u001b[0;34m\u001b[0m\u001b[0m\n\u001b[1;32m    830\u001b[0m                 \u001b[0;31m# this is the root trait\u001b[0m\u001b[0;34m\u001b[0m\u001b[0;34m\u001b[0m\u001b[0;34m\u001b[0m\u001b[0m\n",
      "\u001b[0;31mTraitError\u001b[0m: The 'rotation' trait of a GridHelper instance contains an Enum of an Euler which expected any of ['XYZ', 'YZX', 'ZXY', 'XZY', 'YXZ', 'ZYX'], not the str 'xyz'."
     ]
    }
   ],
   "source": [
    "viewer3 = JupyterViewer()\n",
    "for face in solid.faces():\n",
    "    viewer3.display(face, render_edges=True)\n",
    "viewer3.show()"
   ]
  },
  {
   "attachments": {},
   "cell_type": "markdown",
   "id": "ec9aa9dd",
   "metadata": {},
   "source": [
    "Double click on the faces to select them, then rerun the cell below"
   ]
  },
  {
   "cell_type": "code",
   "execution_count": 6,
   "id": "ff65e1cf",
   "metadata": {},
   "outputs": [
    {
     "name": "stdout",
     "output_type": "stream",
     "text": [
      "Please select some faces to view this demo\n"
     ]
    }
   ],
   "source": [
    "if len(viewer3.selected_faces()) <= 0:\n",
    "    print(\"Please select some faces to view this demo\")\n",
    "else:\n",
    "    entity_mapper = EntityMapper(solid)\n",
    "    selected_face_indices = viewer3.selected_face_indices(entity_mapper)\n",
    "    print(f\"The faces you selected were {selected_face_indices}\")"
   ]
  },
  {
   "attachments": {},
   "cell_type": "markdown",
   "id": "54eac6df",
   "metadata": {},
   "source": [
    "## Viewing faces colored by some scalar function\n",
    "Here we show how to color the faces based on their area"
   ]
  },
  {
   "cell_type": "code",
   "execution_count": null,
   "id": "f1a6a002",
   "metadata": {},
   "outputs": [
    {
     "data": {
      "image/png": "[encoded data removed]",
      "text/plain": [
       "<Figure size 640x480 with 1 Axes>"
      ]
     },
     "metadata": {},
     "output_type": "display_data"
    },
    {
     "data": {
      "application/vnd.jupyter.widget-view+json": {
       "model_id": "63c1a937363a4a45b4e65260776184bb",
       "version_major": 2,
       "version_minor": 0
      },
      "text/plain": [
       "HBox(children=(VBox(children=(HBox(children=(Checkbox(value=True, description='Axes', layout=Layout(height='au…"
      ]
     },
     "metadata": {},
     "output_type": "display_data"
    }
   ],
   "source": [
    "face_areas = []\n",
    "import numpy as np\n",
    "for face in solid.faces():\n",
    "    #face_areas.append(face.area())\n",
    "    face_areas.append( np.random.rand() )\n",
    "    \n",
    "face_areas = np.array(face_areas)\n",
    "viewer4 = JupyterViewer()\n",
    "viewer4.display_face_colormap(solid, face_areas)\n",
    "viewer4.show()"
   ]
  },
  {
   "attachments": {},
   "cell_type": "markdown",
   "id": "94211f6b",
   "metadata": {},
   "source": [
    "## Visualizing point grids\n",
    "This example shows how point grids can be visualized"
   ]
  },
  {
   "cell_type": "code",
   "execution_count": null,
   "id": "5c393325",
   "metadata": {},
   "outputs": [],
   "source": [
    "viewer5 = JupyterViewer()\n",
    "for face in solid.faces():\n",
    "    viewer5.display(face, render_edges=True)\n",
    "viewer5.show()"
   ]
  },
  {
   "cell_type": "code",
   "execution_count": null,
   "id": "b23d1ba0",
   "metadata": {},
   "outputs": [],
   "source": [
    "if len(viewer5.selected_faces()) <= 0:\n",
    "    print(\"Please select some faces to view this demo\")\n",
    "else:\n",
    "    for face in viewer5.selected_faces():\n",
    "        num_u = 5\n",
    "        num_v = 5\n",
    "        points = np.reshape(uvgrid(face, num_u, num_v, method=\"point\"),(-1, 3))\n",
    "        viewer5.display_points(points)\n",
    "        normals = uvgrid(face, num_u, num_v, method=\"normal\").reshape((-1, 3))\n",
    "        viewer5.display_unit_vectors(points, normals)"
   ]
  },
  {
   "cell_type": "code",
   "execution_count": null,
   "id": "a3d82c30",
   "metadata": {},
   "outputs": [],
   "source": []
  }
 ],
 "metadata": {
  "kernelspec": {
   "display_name": "Python 3 (ipykernel)",
   "language": "python",
   "name": "python3"
  },
  "language_info": {
   "codemirror_mode": {
    "name": "ipython",
    "version": 3
   },
   "file_extension": ".py",
   "mimetype": "text/x-python",
   "name": "python",
   "nbconvert_exporter": "python",
   "pygments_lexer": "ipython3",
   "version": "3.7.12"
  }
 },
 "nbformat": 4,
 "nbformat_minor": 5
}
